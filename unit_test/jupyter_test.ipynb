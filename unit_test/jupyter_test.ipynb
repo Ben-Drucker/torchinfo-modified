{
 "metadata": {
  "language_info": {
   "codemirror_mode": {
    "name": "ipython",
    "version": 3
   },
   "file_extension": ".py",
   "mimetype": "text/x-python",
   "name": "python",
   "nbconvert_exporter": "python",
   "pygments_lexer": "ipython3",
   "version": "3.9.0-final"
  },
  "orig_nbformat": 2,
  "kernelspec": {
   "name": "python3",
   "display_name": "Python 3.9.0 64-bit ('3.9.0')",
   "metadata": {
    "interpreter": {
     "hash": "3aad93a9b999f028e59c40cf74a2722e4b34fad0d8342a772a7575577c706f57"
    }
   }
  }
 },
 "nbformat": 4,
 "nbformat_minor": 2,
 "cells": [
  {
   "cell_type": "code",
   "execution_count": 1,
   "metadata": {},
   "outputs": [],
   "source": [
    "import torch\n",
    "import torch.nn as nn\n",
    "from torch.nn import functional as F\n",
    "from torchinfo import summary\n",
    "\n",
    "class SingleInputNet(nn.Module):\n",
    "    \"\"\" Simple CNN model. \"\"\"\n",
    "    def __init__(self) -> None:\n",
    "        super().__init__()\n",
    "        self.conv1 = nn.Conv2d(1, 10, kernel_size=5)\n",
    "        self.conv2 = nn.Conv2d(10, 20, kernel_size=5)\n",
    "        self.conv2_drop = nn.Dropout2d(0.3)\n",
    "        self.fc1 = nn.Linear(320, 50)\n",
    "        self.fc2 = nn.Linear(50, 10)\n",
    "    def forward(self, x: torch.Tensor) -> torch.Tensor:\n",
    "        x = F.relu(F.max_pool2d(self.conv1(x), 2))\n",
    "        x = F.relu(F.max_pool2d(self.conv2_drop(self.conv2(x)), 2))\n",
    "        x = x.view(-1, 320)\n",
    "        x = F.relu(self.fc1(x))\n",
    "        x = self.fc2(x)\n",
    "        return F.log_softmax(x, dim=1)\n",
    "\n",
    "model = SingleInputNet()\n",
    "input_size = (2, 1, 28, 28)"
   ]
  },
  {
   "cell_type": "code",
   "execution_count": 2,
   "metadata": {},
   "outputs": [
    {
     "output_type": "execute_result",
     "data": {
      "text/plain": [
       "==========================================================================================\n",
       "Layer (type:depth-idx)                   Output Shape              Param #\n",
       "==========================================================================================\n",
       "├─Conv2d: 1-1                            [2, 10, 24, 24]           260\n",
       "├─Conv2d: 1-2                            [2, 20, 8, 8]             5,020\n",
       "├─Dropout2d: 1-3                         [2, 20, 8, 8]             --\n",
       "├─Linear: 1-4                            [2, 50]                   16,050\n",
       "├─Linear: 1-5                            [2, 10]                   510\n",
       "==========================================================================================\n",
       "Total params: 21,840\n",
       "Trainable params: 21,840\n",
       "Non-trainable params: 0\n",
       "Total mult-adds (M): 0.48\n",
       "==========================================================================================\n",
       "Input size (MB): 0.01\n",
       "Forward/backward pass size (MB): 0.11\n",
       "Params size (MB): 0.09\n",
       "Estimated Total Size (MB): 0.21\n",
       "=========================================================================================="
      ]
     },
     "metadata": {},
     "execution_count": 2
    }
   ],
   "source": [
    "summary(model, input_size=input_size, verbose=0)"
   ]
  },
  {
   "cell_type": "code",
   "execution_count": 3,
   "metadata": {},
   "outputs": [
    {
     "output_type": "execute_result",
     "data": {
      "text/plain": [
       "==========================================================================================\n",
       "Layer (type:depth-idx)                   Output Shape              Param #\n",
       "==========================================================================================\n",
       "├─Conv2d: 1-1                            [2, 10, 24, 24]           260\n",
       "├─Conv2d: 1-2                            [2, 20, 8, 8]             5,020\n",
       "├─Dropout2d: 1-3                         [2, 20, 8, 8]             --\n",
       "├─Linear: 1-4                            [2, 50]                   16,050\n",
       "├─Linear: 1-5                            [2, 10]                   510\n",
       "==========================================================================================\n",
       "Total params: 21,840\n",
       "Trainable params: 21,840\n",
       "Non-trainable params: 0\n",
       "Total mult-adds (M): 0.48\n",
       "==========================================================================================\n",
       "Input size (MB): 0.01\n",
       "Forward/backward pass size (MB): 0.11\n",
       "Params size (MB): 0.09\n",
       "Estimated Total Size (MB): 0.21\n",
       "=========================================================================================="
      ]
     },
     "metadata": {},
     "execution_count": 3
    }
   ],
   "source": [
    "summary(model, input_size=input_size)"
   ]
  },
  {
   "cell_type": "code",
   "execution_count": 4,
   "metadata": {},
   "outputs": [
    {
     "output_type": "execute_result",
     "data": {
      "text/plain": [
       "4"
      ]
     },
     "metadata": {},
     "execution_count": 4
    }
   ],
   "source": [
    "summary(model, input_size=input_size)\n",
    "2+2"
   ]
  },
  {
   "cell_type": "code",
   "execution_count": 5,
   "metadata": {},
   "outputs": [
    {
     "output_type": "stream",
     "name": "stdout",
     "text": [
      "==========================================================================================\nLayer (type:depth-idx)                   Output Shape              Param #\n==========================================================================================\n├─Conv2d: 1-1                            [2, 10, 24, 24]           260\n├─Conv2d: 1-2                            [2, 20, 8, 8]             5,020\n├─Dropout2d: 1-3                         [2, 20, 8, 8]             --\n├─Linear: 1-4                            [2, 50]                   16,050\n├─Linear: 1-5                            [2, 10]                   510\n==========================================================================================\nTotal params: 21,840\nTrainable params: 21,840\nNon-trainable params: 0\nTotal mult-adds (M): 0.48\n==========================================================================================\nInput size (MB): 0.01\nForward/backward pass size (MB): 0.11\nParams size (MB): 0.09\nEstimated Total Size (MB): 0.21\n==========================================================================================\n"
     ]
    },
    {
     "output_type": "execute_result",
     "data": {
      "text/plain": [
       "4"
      ]
     },
     "metadata": {},
     "execution_count": 5
    }
   ],
   "source": [
    "print(summary(model, input_size=input_size))\n",
    "2+2"
   ]
  },
  {
   "cell_type": "code",
   "execution_count": null,
   "metadata": {},
   "outputs": [],
   "source": []
  }
 ]
}